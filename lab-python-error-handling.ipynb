{
 "cells": [
  {
   "cell_type": "markdown",
   "id": "25d7736c-ba17-4aff-b6bb-66eba20fbf4e",
   "metadata": {},
   "source": [
    "# Lab | Error Handling"
   ]
  },
  {
   "cell_type": "markdown",
   "id": "6f8e446f-16b4-4e21-92e7-9d3d1eb551b6",
   "metadata": {},
   "source": [
    "Objective: Practice how to identify, handle and recover from potential errors in Python code using try-except blocks."
   ]
  },
  {
   "cell_type": "markdown",
   "id": "e253e768-aed8-4791-a800-87add1204afa",
   "metadata": {},
   "source": [
    "## Challenge \n",
    "\n",
    "Paste here your lab *functions* solutions. Apply error handling techniques to each function using try-except blocks. "
   ]
  },
  {
   "cell_type": "markdown",
   "id": "9180ff86-c3fe-4152-a609-081a287fa1af",
   "metadata": {},
   "source": [
    "The try-except block in Python is designed to handle exceptions and provide a fallback mechanism when code encounters errors. By enclosing the code that could potentially throw errors in a try block, followed by specific or general exception handling in the except block, we can gracefully recover from errors and continue program execution.\n",
    "\n",
    "However, there may be cases where an input may not produce an immediate error, but still needs to be addressed. In such situations, it can be useful to explicitly raise an error using the \"raise\" keyword, either to draw attention to the issue or handle it elsewhere in the program.\n",
    "\n",
    "Modify the code to handle possible errors in Python, it is recommended to use `try-except-else-finally` blocks, incorporate the `raise` keyword where necessary, and print meaningful error messages to alert users of any issues that may occur during program execution.\n",
    "\n"
   ]
  },
  {
   "cell_type": "code",
   "execution_count": 1,
   "id": "cc2c441d-9dcf-4817-b097-cf6cbe440846",
   "metadata": {},
   "outputs": [],
   "source": [
    "products = [\"t-shirt\", \"mug\", \"hat\", \"book\", \"keychain\"]\n",
    "\n",
    "# Definimos el stock inicial.\n",
    "def initialize_inventory(products):\n",
    "    inventory = {}\n",
    "    print('Introduce cantidad de cada producto que tienes en el inventario')\n",
    "    for producto in products:\n",
    "        try:\n",
    "            cantidad = int(input(f\"{producto}: \"))\n",
    "            if cantidad < 0:\n",
    "                raise ValueError(\"La cantidad no puede ser negativa.\")\n",
    "            inventory[producto] = cantidad\n",
    "        except ValueError as e:\n",
    "            print(f\"Error: {e}. Por favor, introduce un número entero válido.\")\n",
    "            return None  \n",
    "    return inventory\n",
    "\n",
    "# Definimos la funcion coge los pedidos de los clientes.\n",
    "def get_customer_orders(products,inventory):\n",
    "    customer_orders = set()\n",
    "    while True:\n",
    "        try:\n",
    "            pedido = input('Introduce el nombre del producto que quieres pedir: ')\n",
    "            if pedido in products:\n",
    "                if inventory[pedido] > 0:\n",
    "                    customer_orders.add(pedido)\n",
    "                    print(f'{pedido} añadido al pedido')\n",
    "                else:\n",
    "                    print(f'Perdón, no tenemos stock de {pedido}.')\n",
    "            else:\n",
    "                print(f'{pedido} no es un producto válido. Selecciona un producto de estos {products}')\n",
    "        except Exception as e:\n",
    "            print(f\"Error: {e}. Ha ocurrido un problema al procesar tu pedido.\")\n",
    "        \n",
    "        otro_product = input(\"¿Quieres añadir otro producto? (yes/no): \").strip().lower()\n",
    "        if otro_product != 'yes':\n",
    "            break\n",
    "    return customer_orders\n",
    "\n",
    "# Definimos la función que actualiza el inventario\n",
    "def update_inventory(customer_orders, inventory):\n",
    "    for producto in customer_orders:\n",
    "        if inventory[producto] > 0:\n",
    "            inventory[producto] -= 1\n",
    "    return inventory\n",
    "\n",
    "# Definimos la función que calcula las estadisticas\n",
    "def calculate_order_statistics(customer_orders, products):\n",
    "    total_products_ordered = len(customer_orders)\n",
    "    porcentaje = (total_products_ordered / len(products)) * 100\n",
    "    return total_products_ordered, porcentaje\n",
    "\n",
    "# Definimos la función para imprimir las estadísticas\n",
    "def print_order_statistics(order_statistics):\n",
    "    print('\\nOrder Statistics:')\n",
    "    print(f'Total Products Ordered: {order_statistics[0]}')\n",
    "    print(f'Percentage of Products Ordered: {order_statistics[1]}%')\n",
    "\n",
    "# Definimos la función para imprimir el inventario actualizado\n",
    "def print_updated_inventory(inventory):\n",
    "    print('\\nUpdated Inventory:')\n",
    "    for producto, cantidad in inventory.items():\n",
    "        print(f'{producto}: {cantidad}')"
   ]
  },
  {
   "cell_type": "code",
   "execution_count": 2,
   "id": "e4a54e97",
   "metadata": {},
   "outputs": [
    {
     "name": "stdout",
     "output_type": "stream",
     "text": [
      "Introduce cantidad de cada producto que tienes en el inventario\n",
      "mug añadido al pedido\n",
      "\n",
      "Order Statistics:\n",
      "Total Products Ordered: 1\n",
      "Percentage of Products Ordered: 20.0%\n",
      "\n",
      "Updated Inventory:\n",
      "t-shirt: 5\n",
      "mug: 5\n",
      "hat: 7\n",
      "book: 8\n",
      "keychain: 9\n"
     ]
    }
   ],
   "source": [
    " # Iniciamos el inventario\n",
    "inventory = initialize_inventory(products)\n",
    "    \n",
    "# Obtenemos los pedidos \n",
    "customer_orders = get_customer_orders(products, inventory)\n",
    "    \n",
    "# Calculamos e imprimimos las estadísticas\n",
    "order_statistics = calculate_order_statistics(customer_orders, products)\n",
    "print_order_statistics(order_statistics)\n",
    "    \n",
    "# Actualizamos el inventari0\n",
    "inventory = update_inventory(customer_orders, inventory)\n",
    "print_updated_inventory(inventory)"
   ]
  }
 ],
 "metadata": {
  "kernelspec": {
   "display_name": "Python 3",
   "language": "python",
   "name": "python3"
  },
  "language_info": {
   "codemirror_mode": {
    "name": "ipython",
    "version": 3
   },
   "file_extension": ".py",
   "mimetype": "text/x-python",
   "name": "python",
   "nbconvert_exporter": "python",
   "pygments_lexer": "ipython3",
   "version": "3.8.2"
  }
 },
 "nbformat": 4,
 "nbformat_minor": 5
}
